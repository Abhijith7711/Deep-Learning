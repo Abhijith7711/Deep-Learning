{
 "cells": [
  {
   "cell_type": "code",
   "execution_count": 1,
   "metadata": {},
   "outputs": [],
   "source": [
    "import numpy as np"
   ]
  },
  {
   "cell_type": "code",
   "execution_count": 2,
   "metadata": {},
   "outputs": [],
   "source": [
    "def sigmoid (x):\n",
    "    return 1/(1+np.exp(-x))\n",
    "def sigmoid_derivative (x):\n",
    "    return x*(1-x)"
   ]
  },
  {
   "cell_type": "code",
   "execution_count": 3,
   "metadata": {},
   "outputs": [],
   "source": [
    "x=np.array([[0,0,1],[0,1,1],[1,0,1],[1,1,1]])\n",
    "y=np.array([[0],[1],[1],[0]])\n"
   ]
  },
  {
   "cell_type": "code",
   "execution_count": 4,
   "metadata": {},
   "outputs": [],
   "source": [
    "np.random.seed(1)\n",
    "weight=2*np.random.random((3,1))-1\n",
    "learning_rate=0.1\n",
    "iterations=10000"
   ]
  },
  {
   "cell_type": "code",
   "execution_count": 1,
   "metadata": {},
   "outputs": [
    {
     "ename": "SyntaxError",
     "evalue": "invalid syntax (378772166.py, line 3)",
     "output_type": "error",
     "traceback": [
      "\u001b[1;36m  Cell \u001b[1;32mIn[1], line 3\u001b[1;36m\u001b[0m\n\u001b[1;33m    output=sigmoid/\u001b[0m\n\u001b[1;37m                   ^\u001b[0m\n\u001b[1;31mSyntaxError\u001b[0m\u001b[1;31m:\u001b[0m invalid syntax\n"
     ]
    }
   ],
   "source": [
    "for iterations in range (iterations):\n",
    "    input_layer=x\n",
    "    output=sigmoid/"
   ]
  },
  {
   "cell_type": "code",
   "execution_count": 6,
   "metadata": {},
   "outputs": [
    {
     "name": "stdout",
     "output_type": "stream",
     "text": [
      "Input: [0 0] Output: [[0.03917688]]\n",
      "Input: [0 1] Output: [[0.9574249]]\n",
      "Input: [1 0] Output: [[0.95735905]]\n",
      "Input: [1 1] Output: [[0.05346996]]\n"
     ]
    }
   ],
   "source": [
    "import numpy as np\n",
    "\n",
    "# Sigmoid activation function\n",
    "def sigmoid(x):\n",
    "    return 1 / (1 + np.exp(-x))\n",
    "\n",
    "# Derivative of the sigmoid function\n",
    "def sigmoid_derivative(x):\n",
    "    return x * (1 - x)\n",
    "\n",
    "# Mean squared error loss function\n",
    "def mse_loss(y_true, y_pred):\n",
    "    return np.mean((y_true - y_pred) ** 2)\n",
    "\n",
    "# Define the Neural Network class\n",
    "class NeuralNetwork:\n",
    "    def __init__(self, input_size, hidden_size, output_size):\n",
    "        # Initialize weights and biases\n",
    "        self.weights_input_hidden = np.random.randn(input_size, hidden_size)\n",
    "        self.weights_hidden_output = np.random.randn(hidden_size, output_size)\n",
    "        self.bias_hidden = np.random.randn(1, hidden_size)\n",
    "        self.bias_output = np.random.randn(1, output_size)\n",
    "\n",
    "    def feedforward(self, X):\n",
    "        # Forward pass\n",
    "        self.hidden = sigmoid(np.dot(X, self.weights_input_hidden) + self.bias_hidden)\n",
    "        self.output = sigmoid(np.dot(self.hidden, self.weights_hidden_output) + self.bias_output)\n",
    "        return self.output\n",
    "\n",
    "    def backpropagation(self, X, y, learning_rate):\n",
    "        # Feedforward step\n",
    "        output = self.feedforward(X)\n",
    "\n",
    "        # Calculate error\n",
    "        output_error = y - output\n",
    "        output_delta = output_error * sigmoid_derivative(output)\n",
    "\n",
    "        # Calculate hidden layer error\n",
    "        hidden_error = output_delta.dot(self.weights_hidden_output.T)\n",
    "        hidden_delta = hidden_error * sigmoid_derivative(self.hidden)\n",
    "\n",
    "        # Update weights and biases\n",
    "        self.weights_hidden_output += self.hidden.T.dot(output_delta) * learning_rate\n",
    "        self.weights_input_hidden += X.T.dot(hidden_delta) * learning_rate\n",
    "        self.bias_output += np.sum(output_delta, axis=0, keepdims=True) * learning_rate\n",
    "        self.bias_hidden += np.sum(hidden_delta, axis=0, keepdims=True) * learning_rate\n",
    "\n",
    "    def train(self, X, y, iterations, learning_rate):\n",
    "        for _ in range(iterations):\n",
    "            self.backpropagation(X, y, learning_rate)\n",
    "\n",
    "# Sample data\n",
    "X = np.array([[0, 0], [0, 1], [1, 0], [1, 1]])  # Input data (XOR problem)\n",
    "y = np.array([[0], [1], [1], [0]])              # Expected output\n",
    "\n",
    "# Initialize neural network\n",
    "nn = NeuralNetwork(input_size=2, hidden_size=2, output_size=1)\n",
    "\n",
    "# Train the network\n",
    "iterations = 10000\n",
    "learning_rate = 0.1\n",
    "nn.train(X, y, iterations, learning_rate)\n",
    "\n",
    "# Test the trained network\n",
    "for i in range(len(X)):\n",
    "    print(f\"Input: {X[i]} Output: {nn.feedforward(X[i])}\")\n"
   ]
  },
  {
   "cell_type": "code",
   "execution_count": null,
   "metadata": {},
   "outputs": [],
   "source": []
  }
 ],
 "metadata": {
  "kernelspec": {
   "display_name": "Python 3",
   "language": "python",
   "name": "python3"
  },
  "language_info": {
   "codemirror_mode": {
    "name": "ipython",
    "version": 3
   },
   "file_extension": ".py",
   "mimetype": "text/x-python",
   "name": "python",
   "nbconvert_exporter": "python",
   "pygments_lexer": "ipython3",
   "version": "3.12.1"
  }
 },
 "nbformat": 4,
 "nbformat_minor": 2
}
