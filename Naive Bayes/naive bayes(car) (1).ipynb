{
 "cells": [
  {
   "cell_type": "code",
   "execution_count": 22,
   "id": "41e7a6f5-b6d3-4532-b4d6-2138d4a4e7ef",
   "metadata": {},
   "outputs": [],
   "source": [
    "import pandas as pd"
   ]
  },
  {
   "cell_type": "code",
   "execution_count": 20,
   "id": "c6de9b40-a7d4-4c5d-b125-0a7e9331cf97",
   "metadata": {},
   "outputs": [],
   "source": [
    "import warnings\n",
    "warnings.filterwarnings(\"ignore\")"
   ]
  },
  {
   "cell_type": "code",
   "execution_count": 21,
   "id": "54a7447f-e89b-4bbc-9e99-b03fb6263f2a",
   "metadata": {},
   "outputs": [],
   "source": [
    "# define the dataset"
   ]
  },
  {
   "cell_type": "code",
   "execution_count": 5,
   "id": "ec20620f-8270-48d2-bd79-d5dcd02cb75e",
   "metadata": {},
   "outputs": [],
   "source": [
    "data = {\n",
    "    'Color' : ['red','red','red','yellow','yellow','yellow','yellow','yellow','red','red'],\n",
    "    'Type' : ['sports','sports','sports','sports','sports','SUV','SUV','SUV','SUV','sports'],\n",
    "    'Origin' : ['domestic','domestic','domestic','domestic','Imported','Imported','Imported','Domestic','Imported','Imported'],\n",
    "    'stolen' : ['yes','no','yes','no','yes','no','yes','no','no','yes']\n",
    " }"
   ]
  },
  {
   "cell_type": "code",
   "execution_count": 6,
   "id": "81fc1709-22eb-4e69-9dff-d7ce5a438a55",
   "metadata": {},
   "outputs": [],
   "source": [
    "#creae dataframe"
   ]
  },
  {
   "cell_type": "code",
   "execution_count": 7,
   "id": "f8c86cbd-84e8-46b7-8461-fc71d1964c6a",
   "metadata": {},
   "outputs": [],
   "source": [
    "df = pd.DataFrame(data)"
   ]
  },
  {
   "cell_type": "code",
   "execution_count": 8,
   "id": "7c28cb9d-bc6b-4f7b-a3cf-8d207f025c93",
   "metadata": {},
   "outputs": [],
   "source": [
    "#calculate prior probabilities"
   ]
  },
  {
   "cell_type": "code",
   "execution_count": 9,
   "id": "5923d4ca-1d4d-446c-a37c-3150da65c71d",
   "metadata": {},
   "outputs": [],
   "source": [
    "#additive smoothing factor\n",
    "alpha = 1"
   ]
  },
  {
   "cell_type": "code",
   "execution_count": 10,
   "id": "4d332331-c7de-4e8f-80b8-472b1720b1c8",
   "metadata": {},
   "outputs": [],
   "source": [
    "P_yes = (len(df[df['stolen'] == 'yes']) + alpha) / (len(df) + alpha * 2)\n",
    "P_no = (len(df[df['stolen'] == 'no']) + alpha) / (len(df) + alpha * 2)"
   ]
  },
  {
   "cell_type": "code",
   "execution_count": 11,
   "id": "8defa222-ee78-4b0e-8683-91cd00729359",
   "metadata": {},
   "outputs": [],
   "source": [
    "#calculate Liklehoods"
   ]
  },
  {
   "cell_type": "code",
   "execution_count": 12,
   "id": "d3a02954-3be5-4467-a610-2e38553d3fa0",
   "metadata": {},
   "outputs": [],
   "source": [
    "P_red_yes = (len(df[(df['Color'] == 'red') & (df['stolen'] == 'yes')]) + alpha) / (len(df[df['stolen'] == 'yes']) + alpha * 2)\n",
    "P_red_no = (len(df[(df['Color'] == 'red') & (df['stolen'] == 'no')]) + alpha) / (len(df[df['stolen'] == 'no']) + alpha * 2)\n",
    "\n",
    "P_yellow_yes = (len(df[(df['Color'] == 'yellow') & (df['stolen'] == 'yes')]) + alpha) / (len(df[df['stolen'] == 'yes']) + alpha * 2)\n",
    "P_yellow_no = (len(df[(df['Color'] == 'yellow') & (df['stolen'] == 'no')]) + alpha) / (len(df[df['stolen'] == 'no']) + alpha * 2)\n",
    "\n",
    "P_sports_yes = (len(df[(df['Type'] == 'sports') & (df['stolen'] == 'yes')]) + alpha) / (len(df[df['stolen'] == 'yes']) + alpha * 2)\n",
    "P_sports_no = (len(df[(df['Type'] == 'sports') & (df['stolen'] == 'no')]) + alpha) / (len(df[df['stolen'] == 'no']) + alpha * 2)\n",
    "\n",
    "P_SUV_yes = (len(df[(df['Type'] == 'SUV') & (df['stolen'] == 'yes')]) + alpha) / (len(df[df['stolen'] == 'yes']) + alpha * 2)\n",
    "P_SUV_no = (len(df[(df['Type'] == 'SUV') & (df['stolen'] == 'no')]) + alpha) / (len(df[df['stolen'] == 'no']) + alpha * 2)"
   ]
  },
  {
   "cell_type": "code",
   "execution_count": 13,
   "id": "4a6bc09c-35be-4d9b-9d04-e926d429e3d3",
   "metadata": {},
   "outputs": [],
   "source": [
    "#calculate posterior probabilities"
   ]
  },
  {
   "cell_type": "code",
   "execution_count": 14,
   "id": "14408ad4-2404-428f-94d9-7a20524de73c",
   "metadata": {},
   "outputs": [],
   "source": [
    "posterior_yes = P_red_yes * P_sports_yes * P_yes\n",
    "posterior_no = P_red_no * P_sports_no * P_no\n",
    "posterior_yes = P_yellow_yes * P_SUV_yes * P_yes\n",
    "posterior_no = P_yellow_no * P_SUV_no * P_no"
   ]
  },
  {
   "cell_type": "code",
   "execution_count": 15,
   "id": "ac8429fe-7b97-4a20-875e-482298272086",
   "metadata": {},
   "outputs": [],
   "source": [
    "#Normalize posterior probabilities"
   ]
  },
  {
   "cell_type": "code",
   "execution_count": 16,
   "id": "af59d324-e9a4-4cb1-9d15-6a1c0eaad126",
   "metadata": {},
   "outputs": [],
   "source": [
    "total_posterior = posterior_yes + posterior_no\n",
    "posterior_yes_normalized = posterior_yes / total_posterior\n",
    "posterior_no_normalized = posterior_no / total_posterior"
   ]
  },
  {
   "cell_type": "code",
   "execution_count": 17,
   "id": "508b2484-5f88-48f3-a97a-068c22f18bd5",
   "metadata": {},
   "outputs": [],
   "source": [
    "#print results"
   ]
  },
  {
   "cell_type": "code",
   "execution_count": 18,
   "id": "c1677262-8704-426b-b9be-272d2ff2c2e4",
   "metadata": {},
   "outputs": [
    {
     "name": "stdout",
     "output_type": "stream",
     "text": [
      "P(stolen = Yes | color = red, type  = SUV):0.2727272727272727\n",
      "P(stolen = No | color = red, type = SUV):0.7272727272727273\n"
     ]
    }
   ],
   "source": [
    "print(f'P(stolen = Yes | color = red, type  = SUV):{posterior_yes_normalized}')\n",
    "print(f'P(stolen = No | color = red, type = SUV):{posterior_no_normalized}')"
   ]
  },
  {
   "cell_type": "code",
   "execution_count": 19,
   "id": "41c4167d-e235-4621-b61f-b178c7978995",
   "metadata": {},
   "outputs": [
    {
     "name": "stdout",
     "output_type": "stream",
     "text": [
      "prediction:not stolen\n"
     ]
    }
   ],
   "source": [
    "#make prediction\n",
    "if posterior_yes_normalized > posterior_no_normalized:\n",
    "   print('Prediction:Yes,stolen')\n",
    "else:\n",
    "    print('prediction:not stolen')"
   ]
  },
  {
   "cell_type": "code",
   "execution_count": null,
   "id": "e1ccd06b-22d1-421c-84d1-8b5e9b4686e1",
   "metadata": {},
   "outputs": [],
   "source": []
  },
  {
   "cell_type": "code",
   "execution_count": null,
   "id": "5fceaea7-8f31-4580-bbea-f82fc8f1263e",
   "metadata": {},
   "outputs": [],
   "source": []
  }
 ],
 "metadata": {
  "kernelspec": {
   "display_name": "Python 3 (ipykernel)",
   "language": "python",
   "name": "python3"
  },
  "language_info": {
   "codemirror_mode": {
    "name": "ipython",
    "version": 3
   },
   "file_extension": ".py",
   "mimetype": "text/x-python",
   "name": "python",
   "nbconvert_exporter": "python",
   "pygments_lexer": "ipython3",
   "version": "3.12.3"
  }
 },
 "nbformat": 4,
 "nbformat_minor": 5
}
