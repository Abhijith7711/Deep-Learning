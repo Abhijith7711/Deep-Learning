{
 "cells": [
  {
   "cell_type": "code",
   "execution_count": 2,
   "id": "04627295-615f-482f-9fca-f08e221bf5ba",
   "metadata": {},
   "outputs": [
    {
     "name": "stderr",
     "output_type": "stream",
     "text": [
      "C:\\Users\\HP\\AppData\\Local\\Temp\\ipykernel_7608\\4080736814.py:1: DeprecationWarning: \n",
      "Pyarrow will become a required dependency of pandas in the next major release of pandas (pandas 3.0),\n",
      "(to allow more performant data types, such as the Arrow string type, and better interoperability with other libraries)\n",
      "but was not found to be installed on your system.\n",
      "If this would cause problems for you,\n",
      "please provide us feedback at https://github.com/pandas-dev/pandas/issues/54466\n",
      "        \n",
      "  import pandas as pd\n"
     ]
    }
   ],
   "source": [
    "import pandas as pd"
   ]
  },
  {
   "cell_type": "code",
   "execution_count": 3,
   "id": "03c75cef-a0a0-4598-813f-fc933eb84b34",
   "metadata": {},
   "outputs": [],
   "source": [
    "data = {\n",
    "    'email':['Free money','Free vacation','Hello','Earn money','Meeting tomorrow','Your bill','free prize'],\n",
    "    'spam':['Yes','yes','No','Yes','No','No','Yes']\n",
    "}"
   ]
  },
  {
   "cell_type": "code",
   "execution_count": 4,
   "id": "5be0ac3a-102b-45e0-b333-339d3206bdbe",
   "metadata": {},
   "outputs": [],
   "source": [
    "df = pd.DataFrame(data)"
   ]
  },
  {
   "cell_type": "code",
   "execution_count": 5,
   "id": "e9f9c44b-d61f-4d5d-8144-0c806bbc2cef",
   "metadata": {},
   "outputs": [],
   "source": [
    "#calculate prior probabilities"
   ]
  },
  {
   "cell_type": "code",
   "execution_count": 6,
   "id": "ec0ccc7f-f49e-46a8-9572-29de0487f1d6",
   "metadata": {},
   "outputs": [],
   "source": [
    "p_spam = df['spam'].value_counts()['Yes']/len(df)\n",
    "p_not_spam = df['spam'].value_counts()['No']/len(df)"
   ]
  },
  {
   "cell_type": "code",
   "execution_count": 7,
   "id": "a8c981e7-146a-46a6-90ee-9a22bc1dd2d2",
   "metadata": {},
   "outputs": [],
   "source": [
    "#calculate liklihoods"
   ]
  },
  {
   "cell_type": "code",
   "execution_count": 8,
   "id": "acee59d4-5b30-4cd1-b53f-4b0f11336b21",
   "metadata": {},
   "outputs": [],
   "source": [
    "p_free_spam = len(df[(df['email'].str.contains('Free'))&(df['spam'] =='Yes')]) / len(df[df['spam'] =='Yes'])\n",
    "p_free_not_spam = len(df[(df['email'].str.contains('Free')) & (df['spam'] == 'No')]) / len(df[df['spam'] == 'No'])\n",
    "                  "
   ]
  },
  {
   "cell_type": "code",
   "execution_count": 9,
   "id": "d592ece4-b89d-4c03-b0b3-9618db5b9f2c",
   "metadata": {},
   "outputs": [],
   "source": [
    "#calculate posterior probabilies"
   ]
  },
  {
   "cell_type": "code",
   "execution_count": 10,
   "id": "81dcdb5c-116f-45e0-8814-335bfc113976",
   "metadata": {},
   "outputs": [],
   "source": [
    "posterior_spam = p_free_spam*p_spam\n",
    "posterior_not_spam  = p_free_not_spam*p_not_spam"
   ]
  },
  {
   "cell_type": "code",
   "execution_count": 11,
   "id": "cb0e4446-2909-4eaf-941a-629a7b846eaa",
   "metadata": {},
   "outputs": [],
   "source": [
    "#normalize posterior probabilities"
   ]
  },
  {
   "cell_type": "code",
   "execution_count": 12,
   "id": "16e18ddc-2c01-4e15-9d78-9c0417e32cba",
   "metadata": {},
   "outputs": [],
   "source": [
    "total_posterior = posterior_spam + posterior_not_spam\n",
    "posterior_spam_normalized = posterior_spam / total_posterior\n",
    "posterior_not_spam_normalized = posterior_not_spam / total_posterior\n"
   ]
  },
  {
   "cell_type": "code",
   "execution_count": 13,
   "id": "d4892829-bde5-4df5-8a14-833e0330f6ea",
   "metadata": {},
   "outputs": [],
   "source": [
    "#print results"
   ]
  },
  {
   "cell_type": "code",
   "execution_count": 20,
   "id": "f298b9e4-2820-467f-a163-abbc47458fac",
   "metadata": {},
   "outputs": [
    {
     "name": "stdout",
     "output_type": "stream",
     "text": [
      "p(spam | email contains \"free\"):1.0\n",
      "p(not spam |email contains \"Free\"):0.0\n"
     ]
    }
   ],
   "source": [
    "print(f'p(spam | email contains \"free\"):{posterior_spam_normalized}')\n",
    "print(f'p(not spam |email contains \"Free\"):{posterior_not_spam_normalized}')"
   ]
  },
  {
   "cell_type": "code",
   "execution_count": 18,
   "id": "c4a8740f-279c-4ef9-bb1f-1b5d5cb965ff",
   "metadata": {},
   "outputs": [],
   "source": [
    "#make predictions"
   ]
  },
  {
   "cell_type": "code",
   "execution_count": 19,
   "id": "b1868f4f-01a7-4ca3-8b99-de2ae6d98ef0",
   "metadata": {},
   "outputs": [
    {
     "name": "stdout",
     "output_type": "stream",
     "text": [
      "prediction:spam\n"
     ]
    }
   ],
   "source": [
    "if posterior_spam_normalized > posterior_not_spam_normalized:\n",
    "    print('prediction:spam')\n",
    "else:\n",
    "    print('prediction:not_spam')"
   ]
  },
  {
   "cell_type": "code",
   "execution_count": null,
   "id": "a8dcfe96-e6d6-4e11-ac4c-e7395ba7d213",
   "metadata": {},
   "outputs": [],
   "source": []
  },
  {
   "cell_type": "code",
   "execution_count": null,
   "id": "c4195b0c-e01c-429c-a45a-b92acd737100",
   "metadata": {},
   "outputs": [],
   "source": []
  }
 ],
 "metadata": {
  "kernelspec": {
   "display_name": "Python 3 (ipykernel)",
   "language": "python",
   "name": "python3"
  },
  "language_info": {
   "codemirror_mode": {
    "name": "ipython",
    "version": 3
   },
   "file_extension": ".py",
   "mimetype": "text/x-python",
   "name": "python",
   "nbconvert_exporter": "python",
   "pygments_lexer": "ipython3",
   "version": "3.12.3"
  }
 },
 "nbformat": 4,
 "nbformat_minor": 5
}
