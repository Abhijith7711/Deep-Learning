{
 "cells": [
  {
   "cell_type": "markdown",
   "id": "61c2b9ba",
   "metadata": {},
   "source": [
    "### Decision Tree"
   ]
  },
  {
   "cell_type": "markdown",
   "id": "7ed8287e",
   "metadata": {},
   "source": [
    "#### Objective"
   ]
  },
  {
   "cell_type": "markdown",
   "id": "6c827d3f",
   "metadata": {},
   "source": [
    "create a synthetic dataset where the features are Age,Income and the Target is whether the person purchased a car or not"
   ]
  },
  {
   "cell_type": "code",
   "execution_count": 2,
   "id": "c989a73b",
   "metadata": {},
   "outputs": [],
   "source": [
    "# Import necessary libraries\n",
    "import pandas as pd\n",
    "from sklearn.model_selection import train_test_split\n",
    "from sklearn.tree import DecisionTreeClassifier\n",
    "from sklearn import metrics\n",
    "from sklearn.tree import plot_tree\n",
    "import matplotlib.pyplot as plt"
   ]
  },
  {
   "cell_type": "code",
   "execution_count": 3,
   "id": "a618d385",
   "metadata": {},
   "outputs": [],
   "source": [
    "# Create the dataset\n",
    "data = {\n",
    "    'Age': [25, 45, 35, 50, 23, 40, 60, 48, 33, 55],\n",
    "    'Income': ['Low', 'High', 'Medium', 'High', 'Low', 'Medium', 'High', 'High', 'Medium', 'High'],\n",
    "    'Purchased': [0, 1, 1, 1, 0, 1, 1, 1, 1, 1]  # 0 means 'No', 1 means 'Yes'\n",
    "}"
   ]
  },
  {
   "cell_type": "code",
   "execution_count": 6,
   "id": "8d9d1c64",
   "metadata": {},
   "outputs": [],
   "source": [
    "df = pd.DataFrame(data)"
   ]
  },
  {
   "cell_type": "code",
   "execution_count": 7,
   "id": "365de590",
   "metadata": {},
   "outputs": [
    {
     "data": {
      "text/html": [
       "<div>\n",
       "<style scoped>\n",
       "    .dataframe tbody tr th:only-of-type {\n",
       "        vertical-align: middle;\n",
       "    }\n",
       "\n",
       "    .dataframe tbody tr th {\n",
       "        vertical-align: top;\n",
       "    }\n",
       "\n",
       "    .dataframe thead th {\n",
       "        text-align: right;\n",
       "    }\n",
       "</style>\n",
       "<table border=\"1\" class=\"dataframe\">\n",
       "  <thead>\n",
       "    <tr style=\"text-align: right;\">\n",
       "      <th></th>\n",
       "      <th>Age</th>\n",
       "      <th>Income</th>\n",
       "      <th>Purchased</th>\n",
       "    </tr>\n",
       "  </thead>\n",
       "  <tbody>\n",
       "    <tr>\n",
       "      <th>0</th>\n",
       "      <td>25</td>\n",
       "      <td>Low</td>\n",
       "      <td>0</td>\n",
       "    </tr>\n",
       "    <tr>\n",
       "      <th>1</th>\n",
       "      <td>45</td>\n",
       "      <td>High</td>\n",
       "      <td>1</td>\n",
       "    </tr>\n",
       "    <tr>\n",
       "      <th>2</th>\n",
       "      <td>35</td>\n",
       "      <td>Medium</td>\n",
       "      <td>1</td>\n",
       "    </tr>\n",
       "    <tr>\n",
       "      <th>3</th>\n",
       "      <td>50</td>\n",
       "      <td>High</td>\n",
       "      <td>1</td>\n",
       "    </tr>\n",
       "    <tr>\n",
       "      <th>4</th>\n",
       "      <td>23</td>\n",
       "      <td>Low</td>\n",
       "      <td>0</td>\n",
       "    </tr>\n",
       "    <tr>\n",
       "      <th>5</th>\n",
       "      <td>40</td>\n",
       "      <td>Medium</td>\n",
       "      <td>1</td>\n",
       "    </tr>\n",
       "    <tr>\n",
       "      <th>6</th>\n",
       "      <td>60</td>\n",
       "      <td>High</td>\n",
       "      <td>1</td>\n",
       "    </tr>\n",
       "    <tr>\n",
       "      <th>7</th>\n",
       "      <td>48</td>\n",
       "      <td>High</td>\n",
       "      <td>1</td>\n",
       "    </tr>\n",
       "    <tr>\n",
       "      <th>8</th>\n",
       "      <td>33</td>\n",
       "      <td>Medium</td>\n",
       "      <td>1</td>\n",
       "    </tr>\n",
       "    <tr>\n",
       "      <th>9</th>\n",
       "      <td>55</td>\n",
       "      <td>High</td>\n",
       "      <td>1</td>\n",
       "    </tr>\n",
       "  </tbody>\n",
       "</table>\n",
       "</div>"
      ],
      "text/plain": [
       "   Age  Income  Purchased\n",
       "0   25     Low          0\n",
       "1   45    High          1\n",
       "2   35  Medium          1\n",
       "3   50    High          1\n",
       "4   23     Low          0\n",
       "5   40  Medium          1\n",
       "6   60    High          1\n",
       "7   48    High          1\n",
       "8   33  Medium          1\n",
       "9   55    High          1"
      ]
     },
     "execution_count": 7,
     "metadata": {},
     "output_type": "execute_result"
    }
   ],
   "source": [
    "df"
   ]
  },
  {
   "cell_type": "code",
   "execution_count": 8,
   "id": "2dd93990",
   "metadata": {},
   "outputs": [],
   "source": [
    "\n",
    "# Convert categorical feature 'Income' into numerical values\n",
    "df['Income'] = df['Income'].map({'Low': 1, 'Medium': 2, 'High': 3})"
   ]
  },
  {
   "cell_type": "code",
   "execution_count": 9,
   "id": "866fb408",
   "metadata": {},
   "outputs": [],
   "source": [
    "# Features (Age and Income) and target (Purchased)\n",
    "X = df[['Age', 'Income']]  # Features\n",
    "y = df['Purchased']  # Target"
   ]
  },
  {
   "cell_type": "code",
   "execution_count": 11,
   "id": "0d9b2d44",
   "metadata": {},
   "outputs": [],
   "source": [
    "#Split the dataset into training and testing sets\n",
    "X_train,X_test,y_train,y_test = train_test_split(X,y, test_size =0.2,random_state=42)"
   ]
  },
  {
   "cell_type": "code",
   "execution_count": 12,
   "id": "91afa1f8",
   "metadata": {},
   "outputs": [],
   "source": [
    "#create a decisiontree classifier with max depth 3\n",
    "clf = DecisionTreeClassifier(max_depth = 3,random_state = 42)"
   ]
  },
  {
   "cell_type": "code",
   "execution_count": 13,
   "id": "426173d7",
   "metadata": {},
   "outputs": [
    {
     "data": {
      "text/plain": [
       "DecisionTreeClassifier(max_depth=3, random_state=42)"
      ]
     },
     "execution_count": 13,
     "metadata": {},
     "output_type": "execute_result"
    }
   ],
   "source": [
    "#Train the classifier with training data\n",
    "clf.fit(X_train,y_train)"
   ]
  },
  {
   "cell_type": "code",
   "execution_count": 14,
   "id": "d27105f1",
   "metadata": {},
   "outputs": [],
   "source": [
    "#predict on the test set\n",
    "y_pred = clf.predict(X_test)"
   ]
  },
  {
   "cell_type": "code",
   "execution_count": 21,
   "id": "15db47b8",
   "metadata": {},
   "outputs": [
    {
     "name": "stdout",
     "output_type": "stream",
     "text": [
      "Accuracy : 1.0\n"
     ]
    }
   ],
   "source": [
    "#evaluate the models perfomance\n",
    "Accuracy = metrics.accuracy_score(y_test,y_pred)\n",
    "print(\"Accuracy :\",Accuracy)"
   ]
  },
  {
   "cell_type": "code",
   "execution_count": 24,
   "id": "5c1fe398",
   "metadata": {},
   "outputs": [
    {
     "data": {
      "text/plain": [
       "[Text(0.5, 0.75, 'Age <= 30.0\\ngini = 0.375\\nsamples = 8\\nvalue = [2, 6]\\nclass = Yes'),\n",
       " Text(0.25, 0.25, 'gini = 0.0\\nsamples = 2\\nvalue = [2, 0]\\nclass = No'),\n",
       " Text(0.75, 0.25, 'gini = 0.0\\nsamples = 6\\nvalue = [0, 6]\\nclass = Yes')]"
      ]
     },
     "execution_count": 24,
     "metadata": {},
     "output_type": "execute_result"
    },
    {
     "data": {
      "image/png": "[encoded data removed]",
      "text/plain": [
       "<Figure size 720x360 with 1 Axes>"
      ]
     },
     "metadata": {
      "needs_background": "light"
     },
     "output_type": "display_data"
    }
   ],
   "source": [
    "plt.figure(figsize = [10,5])\n",
    "plot_tree(clf,feature_names = ['Age','Income'],\n",
    "         class_names = ['No','Yes'],filled = True)"
   ]
  },
  {
   "cell_type": "code",
   "execution_count": null,
   "id": "3c255844",
   "metadata": {},
   "outputs": [],
   "source": []
  }
 ],
 "metadata": {
  "kernelspec": {
   "display_name": "Python 3 (ipykernel)",
   "language": "python",
   "name": "python3"
  },
  "language_info": {
   "codemirror_mode": {
    "name": "ipython",
    "version": 3
   },
   "file_extension": ".py",
   "mimetype": "text/x-python",
   "name": "python",
   "nbconvert_exporter": "python",
   "pygments_lexer": "ipython3",
   "version": "3.9.12"
  }
 },
 "nbformat": 4,
 "nbformat_minor": 5
}
